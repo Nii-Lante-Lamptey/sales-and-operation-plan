{
 "cells": [
  {
   "cell_type": "code",
   "execution_count": 1,
   "metadata": {},
   "outputs": [
    {
     "name": "stdout",
     "output_type": "stream",
     "text": [
      "\u001b[1m Sales and Operation Plan \u001b[0m\n",
      "Please enter an initial stock level: 200\n",
      "Please enter the number of months to plan: 5\n",
      "Please enter the planned sales quantity for month 1: 100\n",
      "Production quantity for month 1 is 0\n",
      "Please enter the planned sales quantity for month 2: 45\n",
      "Production quantity for month 2 is 0\n",
      "Please enter the planned sales quantity for month 3: 50\n",
      "Production quantity for month 3 is 0\n",
      "Please enter the planned sales quantity for month 4: 30\n",
      "Production quantity for month 4 is 25\n",
      "Please enter the planned sales quantity for month 5: 10\n",
      "Production quantity for month 5 is 10\n"
     ]
    }
   ],
   "source": [
    "# Welcome Statement\n",
    "print('\\033[1m Sales and Operation Plan \\033[0m')\n",
    "\n",
    "# input the initial stock level from the user\n",
    "initial_stock = int(input('Please enter an initial stock level: '))\n",
    "\n",
    "# input the number of months to plan\n",
    "num_months = int(input('Please enter the number of months to plan: '))\n",
    "\n",
    "# Initialize the previous month's stock level to the initial stock level\n",
    "prev_stock = initial_stock\n",
    "\n",
    "\n",
    "# Loop over the number of months and get the planned sales quantity for each month\n",
    "for i in range(num_months):\n",
    "    planned_sales = int(input(f'Please enter the planned sales quantity for month {i+1}: '))\n",
    "\n",
    "    # Calculate the production quantity for the current month\n",
    "    if planned_sales <= prev_stock:\n",
    "        production_qty = 0\n",
    "    else:\n",
    "        production_qty = planned_sales - prev_stock\n",
    "\n",
    "    \n",
    "# Calculate the stock level after the current month\n",
    "    prev_stock = prev_stock + production_qty - planned_sales\n",
    "# Print the production quantity for the current month\n",
    "    print(f\"Production quantity for month {i+1} is {production_qty}\")\n",
    "    \n",
    "    "
   ]
  },
  {
   "cell_type": "code",
   "execution_count": null,
   "metadata": {},
   "outputs": [],
   "source": []
  },
  {
   "cell_type": "code",
   "execution_count": null,
   "metadata": {},
   "outputs": [],
   "source": []
  },
  {
   "cell_type": "code",
   "execution_count": null,
   "metadata": {},
   "outputs": [],
   "source": []
  },
  {
   "cell_type": "code",
   "execution_count": null,
   "metadata": {},
   "outputs": [],
   "source": []
  }
 ],
 "metadata": {
  "kernelspec": {
   "display_name": "Python 3",
   "language": "python",
   "name": "python3"
  },
  "language_info": {
   "codemirror_mode": {
    "name": "ipython",
    "version": 3
   },
   "file_extension": ".py",
   "mimetype": "text/x-python",
   "name": "python",
   "nbconvert_exporter": "python",
   "pygments_lexer": "ipython3",
   "version": "3.8.3"
  }
 },
 "nbformat": 4,
 "nbformat_minor": 4
}
